{
 "cells": [
  {
   "cell_type": "code",
   "execution_count": null,
   "id": "95ce3cf3-1d6e-408d-9f00-aa5e31878021",
   "metadata": {},
   "outputs": [],
   "source": []
  }
 ],
 "metadata": {
  "kernelspec": {
   "display_name": "",
   "name": ""
  },
  "language_info": {
   "name": ""
  }
 },
 "nbformat": 4,
 "nbformat_minor": 5
}
