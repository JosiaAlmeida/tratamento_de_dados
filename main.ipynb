{
 "cells": [
  {
   "cell_type": "code",
   "execution_count": null,
   "id": "286afe80-d47f-42a9-a79e-c0741aa5ed65",
   "metadata": {},
   "outputs": [],
   "source": [
    "import pandas as pd\n",
    "import seaborn as srn\n",
    "import statistics as sts"
   ]
  },
  {
   "cell_type": "code",
   "execution_count": null,
   "id": "e93891b3-b875-45d4-bd3f-254156fe6194",
   "metadata": {},
   "outputs": [],
   "source": [
    "df = pd.read_csv(\"Churn.csv\", sep=';')\n",
    "df"
   ]
  },
  {
   "cell_type": "code",
   "execution_count": null,
   "id": "e5c53bba-3784-46fa-b97a-c80596a26eee",
   "metadata": {},
   "outputs": [],
   "source": [
    "df.columns = [\"ID\", \"SCORE\",\"ESTADO\", \"GENERO\", \"IDADE\", \"PATRIMONIO\", \"SALDO\", \"PRODUTOS\", \"TEAMCARTCREDIT\", \"ATIVO\", \"SALARIO\", \"SAIU\"]\n",
    "df.isna().sum()"
   ]
  },
  {
   "cell_type": "code",
   "execution_count": null,
   "id": "771d2c58-0ddb-4cfd-a3db-452573b09699",
   "metadata": {},
   "outputs": [],
   "source": [
    "# Variaveis Categoricas\n",
    "agrupado = df.groupby(['ESTADO']).size() # Crirar grupos de estaddos\n",
    "agrupado #Lista o total por grupo"
   ]
  },
  {
   "cell_type": "code",
   "execution_count": null,
   "id": "8787f1e6-719e-4f3b-a32a-f239d074cca1",
   "metadata": {},
   "outputs": [],
   "source": [
    "agrupado.plot.bar(color=\"gray\")"
   ]
  },
  {
   "cell_type": "code",
   "execution_count": null,
   "id": "52cbcde8-0196-43a6-82c3-fcab9c934792",
   "metadata": {},
   "outputs": [],
   "source": [
    "# Variaveis Categoricas\n",
    "agrupado = df.groupby(['GENERO']).size() # Lista o total por grupo\n",
    "agrupado"
   ]
  },
  {
   "cell_type": "code",
   "execution_count": null,
   "id": "883e8da7-eb70-48cd-87dc-2ade679bd1c0",
   "metadata": {},
   "outputs": [],
   "source": [
    "agrupado.plot.bar(color=\"gray\")"
   ]
  },
  {
   "cell_type": "code",
   "execution_count": null,
   "id": "ebbbf630-5f38-4dbc-871c-144b54dd1f0c",
   "metadata": {},
   "outputs": [],
   "source": [
    "# Variaveis Numerica\n",
    "df['SCORE'].describe()"
   ]
  },
  {
   "cell_type": "code",
   "execution_count": null,
   "id": "259b09d0-88a3-406c-a689-22d628747bf1",
   "metadata": {},
   "outputs": [],
   "source": [
    "srn.boxplot(df['SCORE']).set_title('SCORE')"
   ]
  },
  {
   "cell_type": "code",
   "execution_count": null,
   "id": "0baf76bf-8e5a-48c4-83e6-1efd0758a4ec",
   "metadata": {},
   "outputs": [],
   "source": [
    "srn.displot(df['SCORE'])"
   ]
  },
  {
   "cell_type": "code",
   "execution_count": null,
   "id": "d2ef4f4d-c841-46a7-b9d9-50548b90e04c",
   "metadata": {},
   "outputs": [],
   "source": [
    "# Variavel Numerica\n",
    "df['IDADE'].describe()"
   ]
  },
  {
   "cell_type": "code",
   "execution_count": null,
   "id": "5f81839f-abd6-4530-9ef9-ef0dd471b9db",
   "metadata": {},
   "outputs": [],
   "source": [
    "srn.boxplot(df['IDADE']).set_title('IDADE')"
   ]
  },
  {
   "cell_type": "code",
   "execution_count": null,
   "id": "a29338ab-56f1-4ec5-80fa-353c4edeea18",
   "metadata": {
    "scrolled": true
   },
   "outputs": [],
   "source": [
    "srn.displot(df['IDADE'])"
   ]
  },
  {
   "cell_type": "code",
   "execution_count": null,
   "id": "f0709b0f-9ac1-42fc-9065-8dd57a4736e9",
   "metadata": {},
   "outputs": [],
   "source": [
    "# Variavel Numerica\n",
    "df['SALDO'].describe()"
   ]
  },
  {
   "cell_type": "code",
   "execution_count": null,
   "id": "6a8e55e5-872a-4c46-a190-3592f8c399a0",
   "metadata": {},
   "outputs": [],
   "source": [
    "srn.boxplot(df['SALDO']).set_title('SALDO')"
   ]
  },
  {
   "cell_type": "code",
   "execution_count": null,
   "id": "83b1e101-2eca-48be-9098-0d7bd153d602",
   "metadata": {},
   "outputs": [],
   "source": [
    "srn.displot(df['SALDO'])"
   ]
  },
  {
   "cell_type": "code",
   "execution_count": null,
   "id": "b6b45599-a834-4362-b5bb-89c77c562bf3",
   "metadata": {},
   "outputs": [],
   "source": [
    "# Variavel Numerica\n",
    "df['SALARIO'].describe()"
   ]
  },
  {
   "cell_type": "code",
   "execution_count": null,
   "id": "ce3b4e46-c55f-432a-8f2f-8ad44b305dab",
   "metadata": {},
   "outputs": [],
   "source": [
    "srn.boxplot(df['SALARIO']).set_title('IDADE')"
   ]
  },
  {
   "cell_type": "code",
   "execution_count": null,
   "id": "c8aa0a3f-7ec3-4ae0-ad27-b805813abb87",
   "metadata": {},
   "outputs": [],
   "source": [
    "srn.displot(df['SALARIO'])"
   ]
  },
  {
   "cell_type": "code",
   "execution_count": null,
   "id": "df40e110-343b-4645-a802-9bbfbcbe0cff",
   "metadata": {},
   "outputs": [],
   "source": [
    "df.isnull().sum()"
   ]
  },
  {
   "cell_type": "code",
   "execution_count": null,
   "id": "eb6a1597-4465-4429-b492-fd75df37ff47",
   "metadata": {},
   "outputs": [],
   "source": []
  }
 ],
 "metadata": {
  "kernelspec": {
   "display_name": "Python 3 (ipykernel)",
   "language": "python",
   "name": "python3"
  },
  "language_info": {
   "codemirror_mode": {
    "name": "ipython",
    "version": 3
   },
   "file_extension": ".py",
   "mimetype": "text/x-python",
   "name": "python",
   "nbconvert_exporter": "python",
   "pygments_lexer": "ipython3",
   "version": "3.12.4"
  }
 },
 "nbformat": 4,
 "nbformat_minor": 5
}
